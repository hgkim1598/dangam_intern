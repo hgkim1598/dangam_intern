{
  "nbformat": 4,
  "nbformat_minor": 0,
  "metadata": {
    "colab": {
      "provenance": []
    },
    "kernelspec": {
      "name": "python3",
      "display_name": "Python 3"
    },
    "language_info": {
      "name": "python"
    }
  },
  "cells": [
    {
      "cell_type": "code",
      "source": [
        "!pip uninstall openai"
      ],
      "metadata": {
        "id": "w0tMRlAjnB-1"
      },
      "execution_count": null,
      "outputs": []
    },
    {
      "cell_type": "code",
      "source": [
        "import os\n",
        "os.kill(os.getpid(), 9)"
      ],
      "metadata": {
        "id": "4weycArenGTt"
      },
      "execution_count": null,
      "outputs": []
    },
    {
      "cell_type": "markdown",
      "source": [
        "# 라이브러리 설치\n"
      ],
      "metadata": {
        "id": "ILB5YpMgXPxn"
      }
    },
    {
      "cell_type": "code",
      "execution_count": null,
      "metadata": {
        "id": "QHWMQn34WjZi"
      },
      "outputs": [],
      "source": [
        "# 오픈 AI에서 제공하는 ChatGPT API를 파이썬으로 사용할 수 있게 해주는 라이브러리\n",
        "!pip install openai\n",
        "# 카카오 디벨로퍼스에서 제공하는 다양한 API를 파이썬으로 사용할 수 있도록 해주는 라이브러리\n",
        "!pip install PyKakao"
      ]
    },
    {
      "cell_type": "code",
      "source": [
        "import openai\n",
        "print(openai.__version__)"
      ],
      "metadata": {
        "id": "LmygPkuOnIlR"
      },
      "execution_count": null,
      "outputs": []
    },
    {
      "cell_type": "markdown",
      "source": [
        "# 불러오기"
      ],
      "metadata": {
        "id": "uubAZfaMdREU"
      }
    },
    {
      "cell_type": "code",
      "source": [
        "import openai\n",
        "\n",
        "# 발급 받은 API 키 설정\n",
        "OPENAI_API_KEY = \"\"\n",
        "\n",
        "# openai API 키 인증\n",
        "openai.api_key = OPENAI_API_KEY"
      ],
      "metadata": {
        "id": "p0AyD-m4XsSH"
      },
      "execution_count": null,
      "outputs": []
    },
    {
      "cell_type": "markdown",
      "source": [
        "# ChatGPT API 사용하기"
      ],
      "metadata": {
        "id": "fH3TV4XUdU9X"
      }
    },
    {
      "cell_type": "code",
      "source": [
        "!openai migrate  # 이 명령을 실행하면 코드베이스가 자동으로 최신 버전의 OpenAI Python 라이브러리에 맞게 업데이트됩니다."
      ],
      "metadata": {
        "id": "6cZp2jl_pLxh"
      },
      "execution_count": null,
      "outputs": []
    },
    {
      "cell_type": "code",
      "source": [
        "!openai migrate  # OpenAI Python 라이브러리 업데이트\n",
        "\n",
        "# 업데이트가 완료된 후에 다음 코드 실행\n",
        "import os\n",
        "import openai\n",
        "\n",
        "# OpenAI API 키 설정\n",
        "openai.api_key = os.environ.get(\"OPENAI_API_KEY\")\n",
        "\n",
        "# 질문 작성\n",
        "query = '텍스트를 입력 받아 이미지를 생성하는 방법을 알려주세요'\n",
        "\n",
        "# 메시지 설정\n",
        "messages = [\n",
        "    {'role': 'system', 'content': 'You are a helpful assistant.'},\n",
        "    {'role': 'user', 'content': query}\n",
        "]\n",
        "\n",
        "# chatGPT API 호출\n",
        "response = openai.Completion.create(\n",
        "    engine=\"text-davinci-002\",  # ChatGPT 3.5 Turbo 모델 선택\n",
        "    prompt=query,  # 대화 기록\n",
        "    max_tokens=50\n",
        ")\n",
        "\n",
        "answer = response.choices[0].message['content']\n",
        "print(answer)\n"
      ],
      "metadata": {
        "id": "h0-wyKtibFj8"
      },
      "execution_count": null,
      "outputs": []
    },
    {
      "cell_type": "markdown",
      "source": [
        "# PyKakao에서 Karlo 불러오기"
      ],
      "metadata": {
        "id": "Qk4QrQtqea97"
      }
    },
    {
      "cell_type": "code",
      "source": [
        "from PyKakao import Karlo\n",
        "\n",
        "# 발급 받은 API 키 설정\n",
        "KAKAO_API_KEY = \"\"\n",
        "\n",
        "# Karlo API 인스턴스 생성\n",
        "karlo = Karlo(service_key = KAKAO_API_KEY)"
      ],
      "metadata": {
        "id": "Zm3w6f1zefbo"
      },
      "execution_count": null,
      "outputs": []
    },
    {
      "cell_type": "markdown",
      "source": [
        "# Karlo로 이미지 생성하기"
      ],
      "metadata": {
        "id": "UBqnp8GhfLzf"
      }
    },
    {
      "cell_type": "code",
      "source": [
        "# 프롬프트에 사용할 제시어\n",
        "text = \"Cute magical flying cat, soft golden fur, fanstasy art drrawn by Pixar concept artist, Toy Story main character, clear and bright eyes, sharp nose\"\n",
        "\n",
        "# 이미지 생성하기 REST API 호출\n",
        "img_dict = karlo.text_to_image(text, 1)\n",
        "\n",
        "# 생성된 이미지 정보\n",
        "img_str = img_dict.get(\"images\")[0].get('image')\n",
        "\n",
        "# base64 string을 이미지로 변환\n",
        "img = karlo.string_to_image(base64_string = img_str, mode = 'RGBA')\n",
        "img"
      ],
      "metadata": {
        "id": "XvOVINIYfOoo"
      },
      "execution_count": null,
      "outputs": []
    },
    {
      "cell_type": "code",
      "source": [
        "from PyKakao import Karlo\n",
        "api = Karlo(service_key = KAKAO_API_KEY)\n",
        "\n",
        "# 프롬프트에 사용할 제시어\n",
        "text = \"Cute magical flyng cat, soft golden fur, fantasy art drawn by Pixar concept artist, Toy Story main character, clear and bright eyes, sharp nose\"\n",
        "\n",
        "# 이미지 생성하기 REST API 호출\n",
        "img_dict = api.text_to_image(text, 1)\n",
        "\n",
        "# 생성된 이미지 정보\n",
        "img_str = img_dict.get(\"images\")[0].get('image')\n",
        "\n",
        "# base64 string을 이미지로 변환\n",
        "img = api.string_to_image(base64_string = img_str, mode = 'RGBA')\n",
        "\n",
        "# 이미지 저장하기\n",
        "\n",
        "img.save(\"./original.png\")"
      ],
      "metadata": {
        "id": "oxT_u2DZHuvm"
      },
      "execution_count": null,
      "outputs": []
    },
    {
      "cell_type": "code",
      "source": [
        "from PyKakao import Karlo\n",
        "api = Karlo(KAKAO_API_KEY)\n",
        "\n",
        "# 프롬프트에 사용할 제시어\n",
        "prompt = \"A cat with white fur\"\n",
        "negative_prompt = \"sleeping cat, dog, human, ugly face, cropped\"\n",
        "\n",
        "# 이미지 생성하기 REST API 호출\n",
        "response = api.text_to_image(prompt, negative_prompt)\n",
        "\n",
        "# 응답의 첫 번째 이미지 생성 결과 출력하기\n",
        "img = api.get_first_image_from_response(response)\n",
        "img.save(\"test.jpg\")"
      ],
      "metadata": {
        "id": "bV9e5okjIhVk"
      },
      "execution_count": null,
      "outputs": []
    },
    {
      "cell_type": "code",
      "source": [
        "# Karlo 인스턴스 생성\n",
        "api = Karlo(KAKAO_API_KEY)\n",
        "\n",
        "# txt 파일에서 프롬프트 읽어오기\n",
        "with open(\"test.txt\", \"r\") as file:\n",
        "    prompts = file.readlines()\n",
        "\n",
        "# 이미지 생성 및 저장\n",
        "for prompt in prompts:\n",
        "    # 프롬프트에 사용할 제시어 설정\n",
        "    negative_prompt = \"ugly face, cropped\"\n",
        "\n",
        "    # 이미지 생성하기 REST API 호출\n",
        "    response = api.text_to_image(prompt.strip(), negative_prompt)\n",
        "\n",
        "    # 응답의 첫 번째 이미지 생성 결과 저장하기\n",
        "    img = api.get_first_image_from_response(response)\n",
        "    img.save(f\"{prompt.strip()}.jpg\")\n"
      ],
      "metadata": {
        "id": "VH0_hSjMIv5G"
      },
      "execution_count": null,
      "outputs": []
    },
    {
      "cell_type": "code",
      "source": [
        "# REST API 호출, 이미지 파일 처리에 필요한 라이브러리\n",
        "import requests\n",
        "import json\n",
        "import io\n",
        "import base64\n",
        "from PIL import Image\n",
        "\n",
        "# [내 애플리케이션] > [앱 키] 에서 확인한 REST API 키 값 입력\n",
        "REST_API_KEY = KAKAO_API_KEY\n",
        "\n",
        "# 이미지 생성하기 요청\n",
        "def t2i(text, batch_size=1):\n",
        "    r = requests.post(\n",
        "        'https://api.kakaobrain.com/v2/inference/karlo/t2i',\n",
        "        json = {\n",
        "            'prompt': {\n",
        "                'text': text,\n",
        "                'batch_size': batch_size\n",
        "            }\n",
        "        },\n",
        "        headers = {\n",
        "            'Authorization': f'KakaoAK {REST_API_KEY}',\n",
        "            'Content-Type': 'application/json'\n",
        "        }\n",
        "    )\n",
        "    # 응답 JSON 형식으로 변환\n",
        "    response = json.loads(r.content)\n",
        "    return response\n",
        "\n",
        "# Base64 디코딩 및 변환\n",
        "def stringToImage(base64_string, mode='RGBA'):\n",
        "    imgdata = base64.b64decode(str(base64_string))\n",
        "    img = Image.open(io.BytesIO(imgdata)).convert(mode)\n",
        "    return img\n",
        "\n",
        "# 프롬프트에 사용할 제시어\n",
        "text = \"make a image of A farmer harvesting ripe fruits in the well-ripened field \"\n",
        "\n",
        "# 이미지 생성하기 REST API 호출\n",
        "response = t2i(text, 1)\n",
        "\n",
        "print(response)\n",
        "\n",
        "# # 응답의 첫 번째 이미지 생성 결과 출력하기\n",
        "# result = stringToImage(response.get(\"images\")[0].get(\"image\"), mode='RGB')\n",
        "# result.show()"
      ],
      "metadata": {
        "id": "v0MLI-f5hLhh"
      },
      "execution_count": null,
      "outputs": []
    },
    {
      "cell_type": "code",
      "source": [
        "# REST API 호출, 이미지 파일 처리에 필요한 라이브러리\n",
        "import requests\n",
        "import json\n",
        "import urllib\n",
        "from PIL import Image\n",
        "\n",
        "# [내 애플리케이션] > [앱 키] 에서 확인한 REST API 키 값 입력\n",
        "REST_API_KEY = KAKAO_API_KEY\n",
        "\n",
        "# 이미지 생성하기 요청\n",
        "def t2i(prompt, negative_prompt):\n",
        "    r = requests.post(\n",
        "        'https://api.kakaobrain.com/v2/inference/karlo/t2i',\n",
        "        json = {\n",
        "            \"model\": \"v2.1\",\n",
        "            \"prompt\": prompt,\n",
        "            \"negative_prompt\": negative_prompt,\n",
        "            \"height\": 1024,\n",
        "            \"width\": 1024\n",
        "        },\n",
        "        headers = {\n",
        "            'Authorization': f'KakaoAK {REST_API_KEY}',\n",
        "            'Content-Type': 'application/json'\n",
        "        }\n",
        "    )\n",
        "    # 응답 JSON 형식으로 변환\n",
        "    response = json.loads(r.content)\n",
        "    return response\n",
        "\n",
        "\n",
        "# 프롬프트에 사용할 제시어\n",
        "prompt = \"make a image of A farmer harvesting ripe fruits in the well-ripened field\"\n",
        "negative_prompt = \"\"\n",
        "\n",
        "# 이미지 생성하기 REST API 호출\n",
        "response = t2i(prompt, negative_prompt)\n",
        "# print(response)\n",
        "# 응답의 첫 번째 이미지 생성 결과 출력하기\n",
        "result = Image.open(urllib.request.urlopen(response.get(\"images\")[0].get(\"image\")))\n",
        "result.show()"
      ],
      "metadata": {
        "id": "JthfBvamjr2u"
      },
      "execution_count": null,
      "outputs": []
    },
    {
      "cell_type": "code",
      "source": [
        "# HTTP 요청, JSON 데이터 처리, URL 처리, 이미지 처리에 사용됩니다.\n",
        "import requests\n",
        "import json\n",
        "import urllib\n",
        "from PIL import Image\n",
        "\n",
        "# [내 애플리케이션] > [앱 키] 에서 확인한 REST API 키 값 입력\n",
        "REST_API_KEY = KAKAO_API_KEY\n",
        "\n",
        "# 이미지 생성하기 요청\n",
        "#t2i'라는 이름의 함수를 정의합니다. 이 함수는 텍스트를 이미지로 변환하는 작업을 합니다. 함수는 두 개의 인자, 'prompt'와 'negative_prompt'를 받습니다.\n",
        "def t2i(prompt, negative_prompt):\n",
        "\t#requests 라이브러리를 사용하여 카카오 브레인의 Karlo API에 POST 요청을 보냅니다. 요청에는 위에서 정의한 API 키와 함께 주어진 프롬프트 정보를 JSON 형식으로 전달합니다.\n",
        "    r = requests.post(\n",
        "        'https://api.kakaobrain.com/v2/inference/karlo/t2i',\n",
        "        json={\n",
        "            'prompt': prompt,\n",
        "            'negative_prompt': negative_prompt\n",
        "        },\n",
        "        headers={\n",
        "            'Authorization': f'KakaoAK {REST_API_KEY}',\n",
        "            'Content-Type': 'application/json'\n",
        "        }\n",
        "    )\n",
        "\n",
        "    # HTTP status check\n",
        "    #  API 호출의 HTTP 응답 상태를 확인합니다. 오류 상태(예: 404, 500)가 반환된 경우 예외를 발생시킵니다.\n",
        "    r.raise_for_status()\n",
        "\t#API 호출의 응답을 JSON 형식으로 파싱하여 반환합니다.\n",
        "    return r.json()\n",
        "\n",
        "# 프롬프트에 사용할 제시어\n",
        "# 이미지 생성에 사용될 주제와 제외하려는 요소들을 문자열 변수에 지정합니다.\n",
        "prompt = \"Flying cars on the air\"\n",
        "negative_prompt = \"bycycle, human, road\"\n",
        "\n",
        "# 이미지 생성하기 REST API 호출\n",
        "# 앞서 정의한 't2i' 함수를 사용하여 이미지 생성 API를 호출하고 그 결과를 'response' 변수에 저장합니다.\n",
        "response = t2i(prompt, negative_prompt)\n",
        "\n",
        "# API 응답에서 \"images\" 키의 값을 확인합니다. 값이 없거나 유효하지 않으면 오류 메시지를 출력하고 프로그램을 종료합니다.\n",
        "if not response.get(\"images\"):\n",
        "    print(\"API did not return expected image data.\")\n",
        "    exit()\n",
        "\n",
        "# 응답된 이미지 데이터에서 첫 번째 이미지의 URL을 가져옵니다. URL이 없으면 오류 메시지를 출력하고 프로그램을 종료합니다.\n",
        "image_url = response[\"images\"][0].get(\"image\")\n",
        "if not image_url:\n",
        "    print(\"Image URL not found.\")\n",
        "    exit()\n",
        "\n",
        "# urllib 라이브러리를 사용하여 이미지 URL에서 실제 이미지 데이터를 가져옵니다. 그 후, PIL 라이브러리의 Image 모듈을 사용하여 이미지를 열고 화면에 표시합니다.\n",
        "result = Image.open(urllib.request.urlopen(image_url))\n",
        "result.show()\n",
        "result.save('save.jpg')"
      ],
      "metadata": {
        "id": "hjyjP3cYu0Ls"
      },
      "execution_count": null,
      "outputs": []
    },
    {
      "cell_type": "code",
      "source": [
        "# HTTP 요청, JSON 데이터 처리, URL 처리, 이미지 처리에 사용됩니다.\n",
        "import requests\n",
        "import json\n",
        "import urllib\n",
        "from PIL import Image\n",
        "\n",
        "# [내 애플리케이션] > [앱 키] 에서 확인한 REST API 키 값 입력\n",
        "REST_API_KEY = KAKAO_API_KEY\n",
        "\n",
        "# 이미지 생성하기 요청\n",
        "def t2i(prompt, negative_prompt):\n",
        "    r = requests.post(\n",
        "        'https://api.kakaobrain.com/v2/inference/karlo/t2i',\n",
        "        json={\n",
        "            'prompt': prompt,\n",
        "            'negative_prompt': negative_prompt\n",
        "        },\n",
        "        headers={\n",
        "            'Authorization': f'KakaoAK {REST_API_KEY}',\n",
        "            'Content-Type': 'application/json'\n",
        "        }\n",
        "    )\n",
        "\n",
        "    r.raise_for_status()\n",
        "    return r.json()\n",
        "\n",
        "# Karlo 인스턴스 생성\n",
        "api = Karlo(KAKAO_API_KEY)\n",
        "\n",
        "# txt 파일에서 프롬프트 읽어오기\n",
        "with open(\"test.txt\", \"r\") as file:\n",
        "    prompts = file.readlines()\n",
        "\n",
        "# 이미지 생성 및 저장\n",
        "for prompt in prompts:\n",
        "    # 프롬프트에 사용할 제시어 설정\n",
        "    negative_prompt = \"ugly face, cropped\"\n",
        "\n",
        "    # 이미지 생성하기 REST API 호출\n",
        "    response = t2i(prompt.strip(), negative_prompt)\n",
        "\n",
        "    # API 응답에서 이미지 URL 가져오기\n",
        "    image_url = response[\"images\"][0].get(\"image\")\n",
        "    if not image_url:\n",
        "        print(f\"No image URL found for prompt: {prompt.strip()}\")\n",
        "        continue\n",
        "\n",
        "    # 이미지 데이터 다운로드 및 저장\n",
        "    img_data = urllib.request.urlopen(image_url)\n",
        "    img = Image.open(img_data)\n",
        "    img.save(f\"{prompt.strip()}.jpg\")\n"
      ],
      "metadata": {
        "id": "cXoGJvHXw3z5"
      },
      "execution_count": null,
      "outputs": []
    }
  ]
}