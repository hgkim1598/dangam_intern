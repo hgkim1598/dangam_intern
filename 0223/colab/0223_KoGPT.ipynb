{
  "nbformat": 4,
  "nbformat_minor": 0,
  "metadata": {
    "colab": {
      "provenance": []
    },
    "kernelspec": {
      "name": "python3",
      "display_name": "Python 3"
    },
    "language_info": {
      "name": "python"
    }
  },
  "cells": [
    {
      "cell_type": "code",
      "source": [
        "KAKAO_KEY = ''"
      ],
      "metadata": {
        "id": "x0aoXQ2K2SFI"
      },
      "execution_count": null,
      "outputs": []
    },
    {
      "cell_type": "code",
      "source": [
        "!pip install PyKakao --upgrade"
      ],
      "metadata": {
        "id": "nRiaxxIz3dvp"
      },
      "execution_count": null,
      "outputs": []
    },
    {
      "cell_type": "code",
      "execution_count": null,
      "metadata": {
        "id": "my2YZ3HJ16Ox"
      },
      "outputs": [],
      "source": [
        "from PyKakao import KoGPT\n",
        "api = KoGPT(service_key = KAKAO_KEY)"
      ]
    },
    {
      "cell_type": "code",
      "source": [
        "# coding=utf8\n",
        "# REST API 호출에 필요한 라이브러리\n",
        "import requests\n",
        "import json\n",
        "\n",
        "# [내 애플리케이션] > [앱 키] 에서 확인한 REST API 키 값 입력\n",
        "REST_API_KEY = KAKAO_KEY\n",
        "\n",
        "# KoGPT API 호출을 위한 메서드 선언\n",
        "# 각 파라미터 기본값으로 설정\n",
        "def kogpt_api(prompt, max_tokens = 1, temperature = 1.0, top_p = 1.0, n = 1):\n",
        "    r = requests.post(\n",
        "        'https://api.kakaobrain.com/v1/inference/kogpt/generation',\n",
        "        json = {\n",
        "            'prompt': prompt,\n",
        "            'max_tokens': max_tokens,\n",
        "            'temperature': temperature,\n",
        "            'top_p': top_p,\n",
        "            'n': n\n",
        "        },\n",
        "        headers = {\n",
        "            'Authorization': 'KakaoAK ' + REST_API_KEY,\n",
        "            'Content-Type': 'application/json'\n",
        "        }\n",
        "    )\n",
        "    # 응답 JSON 형식으로 변환\n",
        "    response = json.loads(r.content)\n",
        "    return response\n",
        "\n",
        "prompt= \"오늘은 일을 하기 싫다,\"\n",
        "response = kogpt_api(prompt, max_tokens=64, temperature=0.7, top_p=0.8)\n",
        "\n",
        "print(response)"
      ],
      "metadata": {
        "id": "H9r_NFn62U5d"
      },
      "execution_count": null,
      "outputs": []
    }
  ]
}