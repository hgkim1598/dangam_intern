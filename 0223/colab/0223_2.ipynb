{
  "nbformat": 4,
  "nbformat_minor": 0,
  "metadata": {
    "colab": {
      "provenance": []
    },
    "kernelspec": {
      "name": "python3",
      "display_name": "Python 3"
    },
    "language_info": {
      "name": "python"
    }
  },
  "cells": [
    {
      "cell_type": "code",
      "execution_count": null,
      "metadata": {
        "id": "zoZh-zUiy2Hu"
      },
      "outputs": [],
      "source": [
        "KAKAO_KEY = ''"
      ]
    },
    {
      "cell_type": "code",
      "source": [
        "# REST API 호출, 이미지 파일 처리에 필요한 라이브러리\n",
        "import requests\n",
        "import json\n",
        "import urllib\n",
        "from PIL import Image\n",
        "\n",
        "# [내 애플리케이션] > [앱 키] 에서 확인한 REST API 키 값 입력\n",
        "REST_API_KEY =  KAKAO_KEY\n",
        "\n",
        "# 이미지 생성하기 요청\n",
        "def t2i(prompt, negative_prompt):\n",
        "    r = requests.post(\n",
        "        'https://api.kakaobrain.com/v2/inference/karlo/t2i',\n",
        "        json = {\n",
        "            # \"model\": \"v2.1\",\n",
        "            \"prompt\": prompt,\n",
        "            \"negative_prompt\": negative_prompt,\n",
        "            # \"height\": 1024,\n",
        "            # \"width\": 1024\n",
        "        },\n",
        "        headers = {\n",
        "            'Authorization': f'KakaoAK {REST_API_KEY}',\n",
        "            'Content-Type': 'application/json'\n",
        "        }\n",
        "    )\n",
        "    # 확인 1: HTTP 응답 상태 코드 확인\n",
        "    print(\"HTTP 응답 상태 코드:\", r.status_code)\n",
        "\n",
        "    # 확인 2: 전체 응답 확인\n",
        "    print(\"전체 응답:\", r.json())\n",
        "\n",
        "    # 응답 JSON 형식으로 변환\n",
        "    response = json.loads(r.content)\n",
        "    return response\n",
        "\n",
        "# 프롬프트에 사용할 제시어\n",
        "prompt = \"A photo of marvel characters.\"\n",
        "negative_prompt = \"\"\n",
        "\n",
        "# 이미지 생성하기 REST API 호출\n",
        "response = t2i(prompt, negative_prompt)\n",
        "\n",
        "# 응답의 첫 번째 이미지 생성 결과 출력하기\n",
        "result = Image.open(urllib.request.urlopen(response.get(\"images\")[0].get(\"image\")))\n",
        "result.show()"
      ],
      "metadata": {
        "id": "xuNgD8hjy6rC"
      },
      "execution_count": null,
      "outputs": []
    }
  ]
}