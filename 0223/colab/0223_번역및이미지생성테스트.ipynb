{
  "cells": [
    {
      "cell_type": "code",
      "execution_count": null,
      "metadata": {
        "id": "SkiSBkFSul2X"
      },
      "outputs": [],
      "source": [
        "!pip install openai"
      ]
    },
    {
      "cell_type": "code",
      "execution_count": null,
      "metadata": {
        "id": "TToBHsnsqiVJ"
      },
      "outputs": [],
      "source": [
        "import openai\n",
        "\n",
        "# 발급받은 API 키 설정\n",
        "OPENAI_API_KEY = \"\"\n",
        "\n",
        "# openai API 키 인증\n",
        "openai.api_key = OPENAI_API_KEY\n",
        "\n",
        "# 모델 - GPT 3.5 Turbo 선택\n",
        "model = \"gpt-3.5-turbo\""
      ]
    },
    {
      "cell_type": "markdown",
      "metadata": {
        "id": "TF72TnggrCMq"
      },
      "source": [
        "# 영어 번역 요청"
      ]
    },
    {
      "cell_type": "code",
      "execution_count": null,
      "metadata": {
        "id": "cp5Brpsuq3jM"
      },
      "outputs": [],
      "source": [
        "# # 새 메시지 구성\n",
        "# messages = [\n",
        "#     {\n",
        "#         \"role\": \"system\",\n",
        "#         \"content\": \"You are a helpful assistant who is good at translating.\"\n",
        "#     },\n",
        "#     {\n",
        "#         \"role\": \"assistant\",\n",
        "#         \"content\": # 이 부분에 txt 파일 들어가면 될 듯\n",
        "#     }\n",
        "# ]\n",
        "\n",
        "# # 사용자 메시지 추가\n",
        "# messages.append(\n",
        "#     {\n",
        "#         \"role\": \"user\",\n",
        "#         \"content\": \"영어로 번역해주세요.\"\n",
        "#     }\n",
        "# )\n",
        "\n",
        "# # ChatGPT API 호출하기\n",
        "# response = openai.ChatCompletion.create(\n",
        "#     model=model,\n",
        "#     messages=messages\n",
        "# )\n",
        "# answer3 = response['choices'][0]['message']['content']\n",
        "# print(answer3)\n",
        "# prompt = answer3"
      ]
    },
    {
      "cell_type": "markdown",
      "metadata": {
        "id": "CwEc1wHowyEg"
      },
      "source": [
        "### 시도1"
      ]
    },
    {
      "cell_type": "code",
      "execution_count": null,
      "metadata": {
        "id": "e78hm0IuwSfA"
      },
      "outputs": [],
      "source": [
        "\n",
        "# 새 메시지 구성\n",
        "messages = [\n",
        "    {\n",
        "        \"role\": \"system\",\n",
        "        \"content\": \"You are a helpful assistant who is good at translating.\"\n",
        "    },\n",
        "    {\n",
        "        \"role\": \"assistant\",\n",
        "        \"content\": \"영어로 번역해주세요.\"  # 사용자가 번역을 요청하는 메시지\n",
        "    }\n",
        "]\n",
        "\n",
        "# 텍스트 파일 읽어오기\n",
        "with open(\"prompt.txt\", \"r\") as file:\n",
        "    prompts = file.readlines()\n",
        "\n",
        "# 각 줄을 영어로 번역하여 messages에 추가\n",
        "for prompt in prompts:\n",
        "    messages.append({\"role\": \"user\", \"content\": prompt.strip()})  # 한글 텍스트를 줄 단위로 읽어와 메시지에 추가\n",
        "\n",
        "# ChatGPT API 호출하기\n",
        "response = openai.chat.completions.create(\n",
        "    model=\"text-davinci\",  # 사용할 모델 지정\n",
        "    messages=messages\n",
        ")\n",
        "\n",
        "# 번역 결과를 파일에 저장\n",
        "translated_text = response['choices'][-1]['message']['content']\n",
        "with open(\"prom_trans.txt\", \"w\") as file:\n",
        "    file.write(translated_text)\n",
        "\n",
        "print(\"번역이 완료되었습니다. 결과를 prom_trans.txt 파일에 저장했습니다.\")"
      ]
    },
    {
      "cell_type": "markdown",
      "metadata": {
        "id": "S87FI1A84Kxn"
      },
      "source": [
        "### 다른 방법"
      ]
    },
    {
      "cell_type": "code",
      "execution_count": null,
      "metadata": {
        "id": "E0px-2wm4KHj"
      },
      "outputs": [],
      "source": [
        "import os\n",
        "os.environ[\"OPENAI_API_KEY\"] = OPENAI_API_KEY\n",
        "\n",
        "import openai\n",
        "\n",
        "# OpenAI API 키 설정\n",
        "client = OpenAI(api_key=OPENAI_API_KEY)  # 사용자의 API 키로 대체해야 함\n",
        "\n",
        "# ChatGPT를 사용한 텍스트 생성 요청\n",
        "response = client.chat.completions.create(\n",
        "    model = \"gpt-3.5-turbo\",\n",
        "    messages = [{\"role\" : \"user\", \"content\" : \"Translate the following Korean text to English: '햇빛이 드는, 빼곡히 울창한 나무 숲'\"}]\n",
        ")\n",
        "\n",
        "#응답 출력\n",
        "print(response.choices[0].message.content)"
      ]
    },
    {
      "cell_type": "markdown",
      "metadata": {
        "id": "kww-mDmf5Z_e"
      },
      "source": [
        "### 위 코드 응용"
      ]
    },
    {
      "cell_type": "code",
      "execution_count": null,
      "metadata": {
        "id": "9dqnVaUm5ZXc"
      },
      "outputs": [],
      "source": [
        "import os\n",
        "import openai\n",
        "\n",
        "# OpenAI API 키 설정\n",
        "OPENAI_API_KEY = OPENAI_API_KEY  # 사용자의 API 키로 대체해야 함\n",
        "os.environ[\"OPENAI_API_KEY\"] = OPENAI_API_KEY\n",
        "\n",
        "# OpenAI 클라이언트 생성\n",
        "client = openai.Client(api_key=OPENAI_API_KEY)\n",
        "\n",
        "# 텍스트 파일에서 한글 문장을 읽어와 번역하고 결과를 파일에 쓰는 함수 정의\n",
        "def translate_korean_to_english(input_file, output_file):\n",
        "    with open(input_file, \"r\", encoding=\"utf-8\") as f:\n",
        "        korean_sentences = f.readlines()\n",
        "\n",
        "    with open(output_file, \"w\", encoding=\"utf-8\") as f:\n",
        "        for sentence in korean_sentences:\n",
        "            # ChatGPT를 사용한 텍스트 번역 요청\n",
        "            response = client.chat.completions.create(\n",
        "                model=\"gpt-3.5-turbo\",\n",
        "                messages=[{\"role\": \"user\", \"content\": f\"Translate the following Korean text to English: '{sentence.strip()}'\"}]\n",
        "            )\n",
        "            translated_sentence = response.choices[0].message.content\n",
        "            f.write(translated_sentence + \"\\n\")\n",
        "\n",
        "# 입력 파일과 출력 파일 지정\n",
        "input_file = \"prompt.txt\"\n",
        "output_file = \"prompt_trans.txt\"\n",
        "\n",
        "# 번역 함수 호출\n",
        "translate_korean_to_english(input_file, output_file)\n",
        "\n",
        "print(\"번역이 완료되었습니다.\")\n"
      ]
    },
    {
      "cell_type": "markdown",
      "metadata": {
        "id": "IwRXNpjjs9J6"
      },
      "source": [
        "# DALL-E 에게 이미지 요청하기"
      ]
    },
    {
      "cell_type": "code",
      "execution_count": null,
      "metadata": {
        "id": "U0PCsUb5q3sl"
      },
      "outputs": [],
      "source": [
        "# import requests\n",
        "# from PIL import Image\n",
        "# from io import BytesIO\n",
        "\n",
        "# response = openai.Image.create(\n",
        "#   prompt=prompt,\n",
        "#   n=1,\n",
        "#   size=\"1024x1024\"\n",
        "# )\n",
        "# image_url = response['data'][0]['url']\n",
        "# res = requests.get(image_url)\n",
        "# img = Image.open(BytesIO(res.content))\n",
        "# img"
      ]
    },
    {
      "cell_type": "markdown",
      "metadata": {
        "id": "44-yUXO5w0KQ"
      },
      "source": [
        "### 시도1"
      ]
    },
    {
      "cell_type": "code",
      "execution_count": null,
      "metadata": {
        "id": "NsZySjMPw3Lm"
      },
      "outputs": [],
      "source": [
        "# txt 파일에서 한 줄씩 읽어와 이미지 생성\n",
        "with open(\"prompt.txt\", \"r\") as file:\n",
        "    for line in file:\n",
        "        prompt = line.strip()  # 한 줄씩 읽어와 prompt 변수에 저장\n",
        "\n",
        "        # DALL-E API 호출하여 이미지 생성\n",
        "        response = openai.images.generate(\n",
        "            prompt=prompt,\n",
        "            n=1,\n",
        "            size=\"1024x1024\"\n",
        "        )\n",
        "\n",
        "        # 생성된 이미지 URL 가져오기\n",
        "        image_url = response['data'][0]['url']\n",
        "\n",
        "        # 이미지 다운로드 및 표시\n",
        "        res = requests.get(image_url)\n",
        "        img = Image.open(BytesIO(res.content))\n",
        "        img.show()"
      ]
    },
    {
      "cell_type": "code",
      "execution_count": null,
      "metadata": {
        "id": "AMEhebzJ1CGY"
      },
      "outputs": [],
      "source": [
        "from openai import OpenAI\n",
        "client = OpenAI(api_key=OPENAI_API_KEY)\n",
        "\n",
        "# txt 파일에서 한 줄씩 읽어와 이미지 생성\n",
        "with open(\"prompt_trans.txt\", \"r\") as file:\n",
        "    for line in file:\n",
        "        prompt = line.strip()  # 한 줄씩 읽어와 prompt 변수에 저장\n",
        "        response = client.images.generate(\n",
        "          model=\"dall-e-3\",\n",
        "          prompt=prompt,\n",
        "          size=\"1024x1024\",\n",
        "          quality=\"hd\",\n",
        "          n=1,\n",
        "        )\n",
        "\n",
        "        image_url = response.data[0].url\n",
        "        print(image_url)"
      ]
    },
    {
      "cell_type": "markdown",
      "metadata": {
        "id": "Q0eME3Vd9vqK"
      },
      "source": [
        "### 합쳐보기"
      ]
    },
    {
      "cell_type": "code",
      "execution_count": null,
      "metadata": {
        "id": "hWZgBCUC9vOK"
      },
      "outputs": [],
      "source": [
        "import os\n",
        "from openai import OpenAI\n",
        "\n",
        "# OpenAI API 키 설정\n",
        "OPENAI_API_KEY = OPENAI_API_KEY # 사용자의 API 키로 대체해야 함\n",
        "os.environ[\"OPENAI_API_KEY\"] = OPENAI_API_KEY\n",
        "\n",
        "# OpenAI 클라이언트 생성\n",
        "client = OpenAI(api_key=OPENAI_API_KEY)\n",
        "\n",
        "# txt 파일에서 한 줄씩 읽어와 번역 후 이미지 생성\n",
        "with open(\"prompt.txt\", \"r\") as file:\n",
        "    for line in file:\n",
        "        korean_sentence = line.strip()  # 한 줄씩 읽어와 korean_sentence 변수에 저장\n",
        "\n",
        "        # ChatGPT를 사용한 텍스트 번역 요청\n",
        "        response_translation = client.chat.completions.create(\n",
        "            model=\"gpt-3.5-turbo\",\n",
        "            messages=[{\"role\": \"user\", \"content\": f\"Translate the following Korean text to English: '{korean_sentence}'\"}]\n",
        "        )\n",
        "        translated_sentence = response_translation.choices[0].message.content\n",
        "\n",
        "        # DALL-E를 사용한 이미지 생성 요청\n",
        "        response_image = client.images.generate(\n",
        "            model=\"dall-e-3\",\n",
        "            prompt=translated_sentence,\n",
        "            size=\"1024x1024\",\n",
        "            quality=\"hd\",\n",
        "            n=1,\n",
        "        )\n",
        "\n",
        "        image_url = response_image.data[0].url\n",
        "        print(image_url)\n"
      ]
    },
    {
      "cell_type": "markdown",
      "metadata": {
        "id": "waCeBCaQ_VpT"
      },
      "source": [
        "### 파일로 저장하기"
      ]
    },
    {
      "cell_type": "code",
      "execution_count": null,
      "metadata": {
        "id": "n1eGFy9U_X6Q"
      },
      "outputs": [],
      "source": [
        "import os\n",
        "from openai import OpenAI\n",
        "import requests\n",
        "\n",
        "# OpenAI API 키 설정\n",
        "OPENAI_API_KEY = OPENAI_API_KEY  # 사용자의 API 키로 대체해야 함\n",
        "os.environ[\"OPENAI_API_KEY\"] = OPENAI_API_KEY\n",
        "\n",
        "# OpenAI 클라이언트 생성\n",
        "client = OpenAI(api_key=OPENAI_API_KEY)\n",
        "\n",
        "# 이미지 저장을 위한 함수 정의\n",
        "def save_image_from_url(image_url, file_name):\n",
        "    response = requests.get(image_url)\n",
        "    if response.status_code == 200:\n",
        "        with open(file_name, 'wb') as f:\n",
        "            f.write(response.content)\n",
        "            print(f\"{file_name}이미지가 저장되었습니다.\")\n",
        "    else:\n",
        "        print(\"이미지를 다운로드하는 데 문제가 발생했습니다.\")\n",
        "\n",
        "# txt 파일에서 한 줄씩 읽어와 번역 후 이미지 생성 및 파일로 저장\n",
        "with open(\"prompt.txt\", \"r\") as file:\n",
        "    count = 1\n",
        "    for line in file:\n",
        "        korean_sentence = line.strip()  # 한 줄씩 읽어와 korean_sentence 변수에 저장\n",
        "\n",
        "        # ChatGPT를 사용한 텍스트 번역 요청\n",
        "        response_translation = client.chat.completions.create(\n",
        "            model=\"gpt-3.5-turbo\",\n",
        "            messages=[{\"role\": \"user\", \"content\": f\"Translate the following Korean text to English: '{korean_sentence}'\"}]\n",
        "        )\n",
        "        translated_sentence = response_translation.choices[0].message.content\n",
        "\n",
        "        # DALL-E를 사용한 이미지 생성 요청\n",
        "        response_image = client.images.generate(\n",
        "            model=\"dall-e-3\",\n",
        "            prompt=translated_sentence,\n",
        "            size=\"1024x1024\",\n",
        "            quality=\"hd\",\n",
        "            n=1,\n",
        "        )\n",
        "\n",
        "        image_url = response_image.data[0].url\n",
        "        file_name = f\"{count}.jpg\"\n",
        "        save_image_from_url(image_url, file_name)\n",
        "        count += 1\n"
      ]
    }
  ],
  "metadata": {
    "colab": {
      "provenance": []
    },
    "kernelspec": {
      "display_name": "Python 3",
      "name": "python3"
    },
    "language_info": {
      "name": "python"
    }
  },
  "nbformat": 4,
  "nbformat_minor": 0
}
