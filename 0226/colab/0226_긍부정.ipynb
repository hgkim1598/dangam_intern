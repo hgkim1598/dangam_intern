{
  "nbformat": 4,
  "nbformat_minor": 0,
  "metadata": {
    "colab": {
      "provenance": []
    },
    "kernelspec": {
      "name": "python3",
      "display_name": "Python 3"
    },
    "language_info": {
      "name": "python"
    }
  },
  "cells": [
    {
      "cell_type": "code",
      "source": [
        "!pip install openai"
      ],
      "metadata": {
        "id": "xReetDNH7Tcf"
      },
      "execution_count": null,
      "outputs": []
    },
    {
      "cell_type": "code",
      "source": [
        "import openai\n",
        "\n",
        "# 발급받은 API 키 설정\n",
        "OPENAI_API_KEY = \"\"\n",
        "\n",
        "# openai API 키 인증\n",
        "openai.api_key = OPENAI_API_KEY"
      ],
      "metadata": {
        "id": "hxe-w6GO6qHE"
      },
      "execution_count": null,
      "outputs": []
    },
    {
      "cell_type": "markdown",
      "source": [
        "# 시도 1"
      ],
      "metadata": {
        "id": "tkGBoUzpJDdv"
      }
    },
    {
      "cell_type": "code",
      "execution_count": null,
      "metadata": {
        "id": "E9j_mYcL39RJ"
      },
      "outputs": [],
      "source": [
        "import pandas as pd\n",
        "import requests\n",
        "from google.colab import drive\n",
        "\n",
        "# ChatGPT API 엔드포인트 및 API 키\n",
        "API_ENDPOINT = \"https://api.openai.com/v1/classifications\"\n",
        "API_KEY = OPENAI_API_KEY  # 여기에 사용자의 API 키를 넣으세요\n",
        "\n",
        "# 구글 드라이브 마운트\n",
        "drive.mount('/content/drive')\n",
        "\n",
        "# Excel 파일 경로 설정\n",
        "excel_file_path = '/content/drive/My Drive/dangam/dataset/crawling.xlsx'\n",
        "\n",
        "# Excel 파일 읽기\n",
        "df = pd.read_excel(excel_file_path)\n",
        "\n",
        "# 문장을 ChatGPT API로 분류하는 함수\n",
        "def classify_sentence(sentence):\n",
        "    headers = {\n",
        "        \"Content-Type\": \"application/json\",\n",
        "        \"Authorization\": f\"Bearer {API_KEY}\"\n",
        "    }\n",
        "    data = {\n",
        "        \"model\": \"gpt-3.5-turbo\",\n",
        "        \"query\": sentence\n",
        "    }\n",
        "    response = requests.post(API_ENDPOINT, json=data, headers=headers)\n",
        "    result = response.json()\n",
        "    label = result['label']\n",
        "    return label\n",
        "\n",
        "# 주어진 문장에 대해 ChatGPT에게 긍정적인 해석과 부정적인 해석을 물어보는 함수\n",
        "def ask_gpt(sentence):\n",
        "    positive_sentence = sentence + '에 대해 긍정적인 해석을 해줘'\n",
        "    positive_sentiment = classify_sentence(positive_sentence)\n",
        "\n",
        "    negative_sentence = sentence + '에 대해 부정적인 해석을 해줘'\n",
        "    negative_sentiment = classify_sentence(negative_sentence)\n",
        "\n",
        "    return positive_sentiment, negative_sentiment\n",
        "\n",
        "# 주요 프로세스\n",
        "def main():\n",
        "    # Excel 파일에서 첫 번째 행의 \"contents_detail\" 값을 가져옴\n",
        "    sentence = df.iloc[0]['contents_kr']\n",
        "\n",
        "    # ChatGPT에게 긍정적인 해석과 부정적인 해석을 물어봄\n",
        "    positive_sentiment, negative_sentiment = ask_gpt(sentence)\n",
        "\n",
        "    print(\"긍정적인 해석:\", positive_sentiment)\n",
        "    print(\"부정적인 해석:\", negative_sentiment)\n",
        "\n",
        "    # 새로운 열 추가\n",
        "    df['positive_sentiment'] = positive_sentiment\n",
        "    df['negative_sentiment'] = negative_sentiment\n",
        "\n",
        "    # 새로운 Excel 파일로 저장\n",
        "    new_excel_file_path = '/content/drive/My Drive/dangam/data/crawling_new.xlsx'\n",
        "    df.to_excel(new_excel_file_path, index=False)\n",
        "\n",
        "if __name__ == \"__main__\":\n",
        "    main()\n"
      ]
    },
    {
      "cell_type": "markdown",
      "source": [
        "키 에러 및 엔드포인트 에러"
      ],
      "metadata": {
        "id": "jFWQtbi9JJ07"
      }
    },
    {
      "cell_type": "markdown",
      "source": [
        "# 시도 2"
      ],
      "metadata": {
        "id": "5KusLVVjJNGv"
      }
    },
    {
      "cell_type": "markdown",
      "source": [
        "result를 출력하여 chatGPT로부터 받은 내용을 살펴보기"
      ],
      "metadata": {
        "id": "LZXxUhIaJPHX"
      }
    },
    {
      "cell_type": "code",
      "source": [
        "import pandas as pd\n",
        "import requests\n",
        "from google.colab import drive\n",
        "\n",
        "# ChatGPT API 엔드포인트 및 API 키\n",
        "API_ENDPOINT = \"https://api.openai.com/v1/classifications\"\n",
        "API_KEY = OPENAI_API_KEY  # 여기에 사용자의 API 키를 넣으세요\n",
        "\n",
        "# 구글 드라이브 마운트\n",
        "drive.mount('/content/drive')\n",
        "\n",
        "# Excel 파일 경로 설정\n",
        "excel_file_path = '/content/drive/My Drive/dangam/dataset/test_crawling.xlsx'\n",
        "\n",
        "# Excel 파일 읽기\n",
        "df = pd.read_excel(excel_file_path)\n",
        "\n",
        "# 문장을 ChatGPT API로 분류하는 함수\n",
        "def classify_sentence(sentence):\n",
        "    headers = {\n",
        "        \"Content-Type\": \"application/json\",\n",
        "        \"Authorization\": f\"Bearer {API_KEY}\"\n",
        "    }\n",
        "    data = {\n",
        "        \"model\": \"gpt-3.5-turbo\",\n",
        "        \"query\": sentence\n",
        "    }\n",
        "    response = requests.post(API_ENDPOINT, json=data, headers=headers)\n",
        "    result = response.json()\n",
        "\n",
        "    # API 응답 확인\n",
        "    print(\"API 응답:\", result)\n",
        "\n",
        "    # 'label' 키가 있는지 확인\n",
        "    if 'label' in result:\n",
        "        label = result['label']\n",
        "        return label\n",
        "    else:\n",
        "        print(\"API 응답에 'label' 키가 없습니다.\")\n",
        "        return None\n",
        "\n",
        "# 주어진 문장에 대해 ChatGPT에게 긍정적인 해석과 부정적인 해석을 물어보는 함수\n",
        "def ask_gpt(sentence):\n",
        "    positive_sentence = sentence + '에 대해 긍정적인 해석을 해줘'\n",
        "    positive_sentiment = classify_sentence(positive_sentence)\n",
        "\n",
        "    negative_sentence = sentence + '에 대해 부정적인 해석을 해줘'\n",
        "    negative_sentiment = classify_sentence(negative_sentence)\n",
        "\n",
        "    return positive_sentiment, negative_sentiment\n",
        "\n",
        "# 주요 프로세스\n",
        "def main():\n",
        "    # Excel 파일에서 첫 번째 행의 \"contents_detail\" 값을 가져옴\n",
        "    sentence = df.iloc[0]['contents_kr']\n",
        "\n",
        "    # ChatGPT에게 긍정적인 해석과 부정적인 해석을 물어봄\n",
        "    positive_sentiment, negative_sentiment = ask_gpt(sentence)\n",
        "\n",
        "    print(\"긍정적인 해석:\", positive_sentiment)\n",
        "    print(\"부정적인 해석:\", negative_sentiment)\n",
        "\n",
        "    # 새로운 열 추가\n",
        "    df['positive_sentiment'] = positive_sentiment\n",
        "    df['negative_sentiment'] = negative_sentiment\n",
        "\n",
        "    # 새로운 Excel 파일로 저장\n",
        "    new_excel_file_path = '/content/drive/My Drive/dangam/dataset/test_crawling_new.xlsx'\n",
        "    df.to_excel(new_excel_file_path, index=False)\n",
        "\n",
        "if __name__ == \"__main__\":\n",
        "    main()\n"
      ],
      "metadata": {
        "id": "MGHx1_hPE0Ca"
      },
      "execution_count": null,
      "outputs": []
    },
    {
      "cell_type": "markdown",
      "source": [
        "시도 1과 같은 문제"
      ],
      "metadata": {
        "id": "SZQaL9jpJavc"
      }
    },
    {
      "cell_type": "markdown",
      "source": [
        "# 시도 3"
      ],
      "metadata": {
        "id": "yyncB0hAJd4t"
      }
    },
    {
      "cell_type": "code",
      "source": [
        "import pandas as pd\n",
        "import openai\n",
        "from google.colab import drive\n",
        "import os\n",
        "from openai import OpenAI\n",
        "import requests\n",
        "\n",
        "# OpenAI API 키 설정\n",
        "OPENAI_API_KEY = OPENAI_API_KEY  # 사용자의 API 키로 대체해야 함\n",
        "os.environ[\"OPENAI_API_KEY\"] = OPENAI_API_KEY\n",
        "\n",
        "# OpenAI 클라이언트 생성\n",
        "client = OpenAI(api_key=OPENAI_API_KEY)\n",
        "\n",
        "# 구글 드라이브 마운트\n",
        "drive.mount('/content/drive')\n",
        "\n",
        "# Excel 파일 경로 설정\n",
        "excel_file_path = '/content/drive/My Drive/dangam/dataset/test_crawling.xlsx'\n",
        "\n",
        "# Excel 파일 읽기\n",
        "df = pd.read_excel(excel_file_path)\n",
        "\n",
        "# 주어진 사자성어를 ChatGPT에게 긍정적인 해석과 부정적인 해석을 물어보는 함수\n",
        "def ask_gpt_for_proverb(proverb):\n",
        "    # ChatGPT를 사용한 텍스트 분류 요청\n",
        "    positive_response = client.chat.completions.create(\n",
        "        model=\"gpt-3.5-turbo\",\n",
        "        messages=[{\"role\": \"user\", \"content\": f\"사자성어 {proverb}에 대해 긍정적인 해석을 만들어줘.\"}],\n",
        "    )\n",
        "    negative_response = client.chat.completions.create(\n",
        "        model=\"gpt-3.5-turbo\",\n",
        "        messages=[{\"role\": \"user\", \"content\":f\"사자성어 {proverb}에 대해 부정적인 해석을 만들어줘.\"}],\n",
        "    )\n",
        "\n",
        "    # 응답에서 긍정적, 부정적 해석 추출\n",
        "    positive_interpretation = positive_response.choices[0].message.content\n",
        "    negative_interpretation = negative_response.choices[0].message.content\n",
        "\n",
        "    return positive_interpretation, negative_interpretation\n",
        "\n",
        "# 주요 프로세스\n",
        "def main():\n",
        "    positive_sentiments = []\n",
        "    negative_sentiments = []\n",
        "\n",
        "    # 모든 사자성어에 대해 ChatGPT에게 긍정적인 해석과 부정적인 해석을 물어봄\n",
        "    for proverb in df['contents_detail']:\n",
        "        positive_sentiment, negative_sentiment = ask_gpt_for_proverb(proverb)\n",
        "        positive_sentiments.append(positive_sentiment)\n",
        "        negative_sentiments.append(negative_sentiment)\n",
        "\n",
        "    # 새로운 DataFrame 생성\n",
        "    new_df = pd.DataFrame({\n",
        "        'contents_kr': df['contents_kr'],\n",
        "        'positive_sentiment': positive_sentiments,\n",
        "        'negative_sentiment': negative_sentiments\n",
        "    })\n",
        "\n",
        "    # 새로운 Excel 파일로 저장\n",
        "    new_excel_file_path = '/content/drive/My Drive/dangam/dataset/test_crawling_new_2.xlsx'\n",
        "    new_df.to_excel(new_excel_file_path, index=False)\n",
        "\n",
        "if __name__ == \"__main__\":\n",
        "    main()\n"
      ],
      "metadata": {
        "id": "g-dq3YjoJAzd"
      },
      "execution_count": null,
      "outputs": []
    },
    {
      "cell_type": "markdown",
      "source": [
        "결과는 잘 나오나 조금 애매한 해석을 주어, contents_zh까지 넣어서 질문해보기"
      ],
      "metadata": {
        "id": "yf57TIGDT_x2"
      }
    },
    {
      "cell_type": "markdown",
      "source": [
        "# 시도4"
      ],
      "metadata": {
        "id": "A-2Bv6lJslJU"
      }
    },
    {
      "cell_type": "code",
      "source": [
        "import pandas as pd\n",
        "from openai import OpenAI\n",
        "from google.colab import drive\n",
        "import os\n",
        "\n",
        "# OpenAI API 키 설정\n",
        "OPENAI_API_KEY = OPENAI_API_KEY  # 사용자의 API 키로 대체해야 함\n",
        "os.environ[\"OPENAI_API_KEY\"] = OPENAI_API_KEY\n",
        "\n",
        "# OpenAI 클라이언트 생성\n",
        "client = OpenAI(api_key=OPENAI_API_KEY)\n",
        "\n",
        "# 구글 드라이브 마운트\n",
        "drive.mount('/content/drive')\n",
        "\n",
        "# Excel 파일 경로 설정\n",
        "excel_file_path = '/content/drive/My Drive/dangam/dataset/test_crawling.xlsx'\n",
        "\n",
        "# Excel 파일 읽기\n",
        "df = pd.read_excel(excel_file_path)\n",
        "\n",
        "# 주어진 사자성어를 ChatGPT에게 긍정적인 해석과 부정적인 해석을 물어보는 함수\n",
        "def ask_gpt_for_proverb(proverb_kr, proverb_zh):\n",
        "    # ChatGPT를 사용한 텍스트 분류 요청\n",
        "    positive_response = client.chat.completions.create(\n",
        "        model=\"gpt-4\",\n",
        "        messages=[\n",
        "            {\"role\": \"user\", \"content\": f\"사자성어 {proverb_kr}({proverb_zh})에 대해 긍정적인 해석을 만들어줘.\"},\n",
        "        ],\n",
        "    )\n",
        "    negative_response = client.chat.completions.create(\n",
        "        model=\"gpt-4\",\n",
        "        messages=[\n",
        "            {\"role\": \"user\", \"content\": f\"사자성어 {proverb_kr}({proverb_zh})에 대해 부정적인 해석을 만들어줘.\"},\n",
        "        ],\n",
        "    )\n",
        "\n",
        "    # 응답에서 긍정적, 부정적 해석 추출\n",
        "    positive_interpretation = positive_response.choices[0].message.content\n",
        "    negative_interpretation = negative_response.choices[0].message.content\n",
        "\n",
        "    return positive_interpretation, negative_interpretation\n",
        "\n",
        "# 주요 프로세스\n",
        "def main():\n",
        "    positive_sentiments = []\n",
        "    negative_sentiments = []\n",
        "\n",
        "    # 모든 사자성어에 대해 ChatGPT에게 긍정적인 해석과 부정적인 해석을 물어봄\n",
        "    for index, row in df.iterrows():\n",
        "        positive_sentiment, negative_sentiment = ask_gpt_for_proverb(row['contents_kr'], row['contents_zh'])\n",
        "        positive_sentiments.append(positive_sentiment)\n",
        "        negative_sentiments.append(negative_sentiment)\n",
        "\n",
        "    # 새로운 DataFrame 생성\n",
        "    new_df = pd.DataFrame({\n",
        "        'contents_kr': df['contents_kr'],\n",
        "        'contents_zh': df['contents_zh'],\n",
        "        'positive_sentiment': positive_sentiments,\n",
        "        'negative_sentiment': negative_sentiments\n",
        "    })\n",
        "\n",
        "    # 새로운 Excel 파일로 저장\n",
        "    new_excel_file_path = '/content/drive/My Drive/dangam/dataset/test_crawling_new_4.xlsx'\n",
        "    new_df.to_excel(new_excel_file_path, index=False)\n",
        "\n",
        "if __name__ == \"__main__\":\n",
        "    main()\n"
      ],
      "metadata": {
        "id": "c56yCm0usm7u"
      },
      "execution_count": null,
      "outputs": []
    }
  ]
}