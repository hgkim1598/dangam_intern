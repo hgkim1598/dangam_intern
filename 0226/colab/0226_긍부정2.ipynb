{
  "nbformat": 4,
  "nbformat_minor": 0,
  "metadata": {
    "colab": {
      "provenance": []
    },
    "kernelspec": {
      "name": "python3",
      "display_name": "Python 3"
    },
    "language_info": {
      "name": "python"
    }
  },
  "cells": [
    {
      "cell_type": "code",
      "execution_count": null,
      "metadata": {
        "colab": {
          "base_uri": "https://localhost:8080/"
        },
        "id": "I8SHoGC4xw9R",
        "outputId": "2cc0215b-0e3e-4a1a-a6cf-54636f19fcda"
      },
      "outputs": [
        {
          "output_type": "stream",
          "name": "stdout",
          "text": [
            "Requirement already satisfied: openai in /usr/local/lib/python3.10/dist-packages (1.12.0)\n",
            "Requirement already satisfied: anyio<5,>=3.5.0 in /usr/local/lib/python3.10/dist-packages (from openai) (3.7.1)\n",
            "Requirement already satisfied: distro<2,>=1.7.0 in /usr/lib/python3/dist-packages (from openai) (1.7.0)\n",
            "Requirement already satisfied: httpx<1,>=0.23.0 in /usr/local/lib/python3.10/dist-packages (from openai) (0.27.0)\n",
            "Requirement already satisfied: pydantic<3,>=1.9.0 in /usr/local/lib/python3.10/dist-packages (from openai) (2.6.1)\n",
            "Requirement already satisfied: sniffio in /usr/local/lib/python3.10/dist-packages (from openai) (1.3.0)\n",
            "Requirement already satisfied: tqdm>4 in /usr/local/lib/python3.10/dist-packages (from openai) (4.66.2)\n",
            "Requirement already satisfied: typing-extensions<5,>=4.7 in /usr/local/lib/python3.10/dist-packages (from openai) (4.9.0)\n",
            "Requirement already satisfied: idna>=2.8 in /usr/local/lib/python3.10/dist-packages (from anyio<5,>=3.5.0->openai) (3.6)\n",
            "Requirement already satisfied: exceptiongroup in /usr/local/lib/python3.10/dist-packages (from anyio<5,>=3.5.0->openai) (1.2.0)\n",
            "Requirement already satisfied: certifi in /usr/local/lib/python3.10/dist-packages (from httpx<1,>=0.23.0->openai) (2024.2.2)\n",
            "Requirement already satisfied: httpcore==1.* in /usr/local/lib/python3.10/dist-packages (from httpx<1,>=0.23.0->openai) (1.0.4)\n",
            "Requirement already satisfied: h11<0.15,>=0.13 in /usr/local/lib/python3.10/dist-packages (from httpcore==1.*->httpx<1,>=0.23.0->openai) (0.14.0)\n",
            "Requirement already satisfied: annotated-types>=0.4.0 in /usr/local/lib/python3.10/dist-packages (from pydantic<3,>=1.9.0->openai) (0.6.0)\n",
            "Requirement already satisfied: pydantic-core==2.16.2 in /usr/local/lib/python3.10/dist-packages (from pydantic<3,>=1.9.0->openai) (2.16.2)\n"
          ]
        }
      ],
      "source": [
        "!pip install openai\n",
        "import openai\n",
        "\n",
        "# 발급받은 API 키 설정\n",
        "OPENAI_API_KEY = \"\"\n",
        "\n",
        "# openai API 키 인증\n",
        "openai.api_key = OPENAI_API_KEY"
      ]
    },
    {
      "cell_type": "code",
      "source": [
        "from google.colab import drive\n",
        "import pandas as pd\n",
        "import openai\n",
        "from google.colab import drive\n",
        "import os\n",
        "from openai import OpenAI\n",
        "import requests\n",
        "\n",
        "# OpenAI API 키 설정\n",
        "OPENAI_API_KEY = OPENAI_API_KEY  # 사용자의 API 키로 대체해야 함\n",
        "os.environ[\"OPENAI_API_KEY\"] = OPENAI_API_KEY\n",
        "\n",
        "# OpenAI 클라이언트 생성\n",
        "client = OpenAI(api_key=OPENAI_API_KEY)\n",
        "\n",
        "# 구글 드라이브 마운트\n",
        "drive.mount('/content/drive')\n",
        "\n",
        "# Excel 파일 경로 설정\n",
        "excel_file_path = '/content/drive/My Drive/dangam/dataset/test_crawling.xlsx'\n",
        "\n",
        "# Excel 파일 읽기\n",
        "df = pd.read_excel(excel_file_path)\n",
        "\n",
        "# 주어진 사자성어를 ChatGPT에게 긍정적인 해석과 부정적인 해석을 물어보는 함수\n",
        "def ask_gpt_for_proverb(proverb):\n",
        "    # ChatGPT를 사용한 텍스트 분류 요청\n",
        "    positive_response = client.chat.completions.create(\n",
        "        model=\"gpt-4\",\n",
        "        messages=[{\"role\": \"user\", \"content\": f\"'{proverb}' 이 문장을 어려운 사람들에게 힘을 주는 말로 만들어줘.\"}],\n",
        "    )\n",
        "    negative_response = client.chat.completions.create(\n",
        "        model=\"gpt-4\",\n",
        "        messages=[{\"role\": \"user\", \"content\":f\"'{proverb}'이 문장을 경고하는 말로 만들어줘.\"}],\n",
        "    )\n",
        "\n",
        "    # 응답에서 긍정적, 부정적 해석 추출\n",
        "    positive_interpretation = positive_response.choices[0].message.content\n",
        "    negative_interpretation = negative_response.choices[0].message.content\n",
        "\n",
        "    return positive_interpretation, negative_interpretation\n",
        "\n",
        "# 주요 프로세스\n",
        "def main():\n",
        "    positive_sentiments = []\n",
        "    negative_sentiments = []\n",
        "\n",
        "    # 모든 사자성어에 대해 ChatGPT에게 긍정적인 해석과 부정적인 해석을 물어봄\n",
        "    for proverb in df['contents_detail']:\n",
        "        positive_sentiment, negative_sentiment = ask_gpt_for_proverb(proverb)\n",
        "        positive_sentiments.append(positive_sentiment)\n",
        "        negative_sentiments.append(negative_sentiment)\n",
        "\n",
        "    # 새로운 DataFrame 생성\n",
        "    new_df = pd.DataFrame({\n",
        "        'contents_kr': df['contents_kr'],\n",
        "        'positive_sentiment': positive_sentiments,\n",
        "        'negative_sentiment': negative_sentiments\n",
        "    })\n",
        "\n",
        "    # 새로운 Excel 파일로 저장\n",
        "    new_excel_file_path = '/content/drive/My Drive/dangam/dataset/test_crawling_new_3.xlsx'\n",
        "    new_df.to_excel(new_excel_file_path, index=False)\n",
        "\n",
        "if __name__ == \"__main__\":\n",
        "    main()"
      ],
      "metadata": {
        "id": "lPe9V69lx2Cs"
      },
      "execution_count": null,
      "outputs": []
    },
    {
      "cell_type": "markdown",
      "source": [
        "# 다른 프롬프트(1)"
      ],
      "metadata": {
        "id": "o4Qh-upe3Hix"
      }
    },
    {
      "cell_type": "code",
      "source": [
        "from google.colab import drive\n",
        "import pandas as pd\n",
        "import openai\n",
        "import os\n",
        "from openai import OpenAI\n",
        "import requests\n",
        "# OpenAI API 키 설정\n",
        "OPENAI_API_KEY = OPENAI_API_KEY  # 사용자의 API 키로 대체해야 함\n",
        "os.environ[\"OPENAI_API_KEY\"] = OPENAI_API_KEY\n",
        "\n",
        "# OpenAI 클라이언트 생성\n",
        "client = OpenAI(api_key=OPENAI_API_KEY)\n",
        "\n",
        "# 구글 드라이브 마운트\n",
        "drive.mount('/content/drive')\n",
        "\n",
        "# Excel 파일 경로 설정\n",
        "excel_file_path = '/content/drive/My Drive/dangam/dataset/test_crawling.xlsx'\n",
        "\n",
        "# Excel 파일 읽기\n",
        "df = pd.read_excel(excel_file_path)\n",
        "\n",
        "# 주어진 사자성어를 ChatGPT에게 긍정적인 해석과 부정적인 해석을 물어보는 함수\n",
        "def ask_gpt_for_proverb(proverb, meaning):\n",
        "    # ChatGPT를 사용한 텍스트 분류 요청 (긍정적 해석)\n",
        "    positive_response = client.chat.completions.create(\n",
        "        model=\"gpt-4\",\n",
        "        messages=[{\"role\": \"user\", \"content\": f\"사자성어 '{proverb}'의 뜻은 '{meaning}'입니다. 이것을 긍정적인 관점에서 해석하고 위로의 말을 만들어주세요.\"}],\n",
        "    )\n",
        "    # ChatGPT를 사용한 텍스트 분류 요청 (부정적 해석)\n",
        "    negative_response = client.chat.completions.create(\n",
        "        model=\"gpt-4\",\n",
        "        messages=[{\"role\": \"user\", \"content\": f\"사자성어 '{proverb}'의 뜻은 '{meaning}'입니다. 이것을 부정적인 관점에서 해석하고 경고의 말을 만들어주세요.\"}],\n",
        "    )\n",
        "\n",
        "    # 응답에서 긍정적, 부정적 해석 추출\n",
        "    positive_interpretation = positive_response.choices[0].message.content\n",
        "    negative_interpretation = negative_response.choices[0].message.content\n",
        "\n",
        "    return positive_interpretation, negative_interpretation\n",
        "\n",
        "# 주요 프로세스\n",
        "def main():\n",
        "    positive_sentiments = []\n",
        "    negative_sentiments = []\n",
        "\n",
        "    # 모든 사자성어에 대해 ChatGPT에게 긍정적인 해석과 부정적인 해석을 물어봄\n",
        "    for index, row in df.iterrows():\n",
        "        proverb = row['contents_kr']\n",
        "        meaning = row['contents_detail']\n",
        "        positive_sentiment, negative_sentiment = ask_gpt_for_proverb(proverb, meaning)\n",
        "        positive_sentiments.append(positive_sentiment)\n",
        "        negative_sentiments.append(negative_sentiment)\n",
        "\n",
        "    # 새로운 DataFrame 생성\n",
        "    new_df = pd.DataFrame({\n",
        "        'contents_kr': df['contents_kr'],\n",
        "        'positive_sentiment': positive_sentiments,\n",
        "        'negative_sentiment': negative_sentiments\n",
        "    })\n",
        "\n",
        "    # 새로운 Excel 파일로 저장\n",
        "    new_excel_file_path = '/content/drive/My Drive/dangam/dataset/test_crawling_new5.xlsx'\n",
        "    new_df.to_excel(new_excel_file_path, index=False)\n",
        "\n",
        "if __name__ == \"__main__\":\n",
        "    main()\n"
      ],
      "metadata": {
        "colab": {
          "base_uri": "https://localhost:8080/"
        },
        "id": "EG5tAMEl3JXA",
        "outputId": "27f90d0d-604f-47e0-97ef-a0bfa6e9b55c"
      },
      "execution_count": null,
      "outputs": [
        {
          "output_type": "stream",
          "name": "stdout",
          "text": [
            "Drive already mounted at /content/drive; to attempt to forcibly remount, call drive.mount(\"/content/drive\", force_remount=True).\n"
          ]
        }
      ]
    },
    {
      "cell_type": "markdown",
      "source": [
        "# 프롬프트 조금 더 수정"
      ],
      "metadata": {
        "id": "ZnXE-JD-QDUs"
      }
    },
    {
      "cell_type": "code",
      "source": [
        "from google.colab import drive\n",
        "import pandas as pd\n",
        "import openai\n",
        "import os\n",
        "from openai import OpenAI\n",
        "import requests\n",
        "# OpenAI API 키 설정\n",
        "OPENAI_API_KEY = OPENAI_API_KEY  # 사용자의 API 키로 대체해야 함\n",
        "os.environ[\"OPENAI_API_KEY\"] = OPENAI_API_KEY\n",
        "\n",
        "# OpenAI 클라이언트 생성\n",
        "client = OpenAI(api_key=OPENAI_API_KEY)\n",
        "\n",
        "# 구글 드라이브 마운트\n",
        "drive.mount('/content/drive')\n",
        "\n",
        "# Excel 파일 경로 설정\n",
        "excel_file_path = '/content/drive/My Drive/dangam/dataset/test_crawling.xlsx'\n",
        "\n",
        "# Excel 파일 읽기\n",
        "df = pd.read_excel(excel_file_path)\n",
        "\n",
        "# 주어진 사자성어를 ChatGPT에게 긍정적인 해석과 부정적인 해석을 물어보는 함수\n",
        "def ask_gpt_for_proverb(proverb, meaning):\n",
        "    # ChatGPT를 사용한 텍스트 분류 요청 (긍정적 해석)\n",
        "    positive_response = client.chat.completions.create(\n",
        "        model=\"gpt-4\",\n",
        "        messages=[{\"role\": \"user\", \"content\": f\"사자성어 '{proverb}'의 뜻은 '{meaning}'입니다. 이것을 긍정적인 관점에서 해석하고 위로의 말을 만들어주세요. 원래 뜻에서 벗어나지 않도록 만들어주세요\"}],\n",
        "    )\n",
        "    # ChatGPT를 사용한 텍스트 분류 요청 (부정적 해석)\n",
        "    negative_response = client.chat.completions.create(\n",
        "        model=\"gpt-4\",\n",
        "        messages=[{\"role\": \"user\", \"content\": f\"사자성어 '{proverb}'의 뜻은 '{meaning}'입니다. 이것을 부정적인 관점에서 해석하고 경고의 말을 만들어주세요. 원래 뜻에서 벗어나지 않도록 만들어주세요\"}],\n",
        "    )\n",
        "\n",
        "    # 응답에서 긍정적, 부정적 해석 추출\n",
        "    positive_interpretation = positive_response.choices[0].message.content\n",
        "    negative_interpretation = negative_response.choices[0].message.content\n",
        "\n",
        "    return positive_interpretation, negative_interpretation\n",
        "\n",
        "# 주요 프로세스\n",
        "def main():\n",
        "    positive_sentiments = []\n",
        "    negative_sentiments = []\n",
        "\n",
        "    # 모든 사자성어에 대해 ChatGPT에게 긍정적인 해석과 부정적인 해석을 물어봄\n",
        "    for index, row in df.iterrows():\n",
        "        proverb = row['contents_kr']\n",
        "        meaning = row['contents_detail']\n",
        "        positive_sentiment, negative_sentiment = ask_gpt_for_proverb(proverb, meaning)\n",
        "        positive_sentiments.append(positive_sentiment)\n",
        "        negative_sentiments.append(negative_sentiment)\n",
        "\n",
        "    # 새로운 DataFrame 생성\n",
        "    new_df = pd.DataFrame({\n",
        "        'contents_kr': df['contents_kr'],\n",
        "        'positive_sentiment': positive_sentiments,\n",
        "        'negative_sentiment': negative_sentiments\n",
        "    })\n",
        "\n",
        "    # 새로운 Excel 파일로 저장\n",
        "    new_excel_file_path = '/content/drive/My Drive/dangam/dataset/test_crawling_new6.xlsx'\n",
        "    new_df.to_excel(new_excel_file_path, index=False)\n",
        "\n",
        "if __name__ == \"__main__\":\n",
        "    main()\n"
      ],
      "metadata": {
        "colab": {
          "base_uri": "https://localhost:8080/"
        },
        "id": "Wh_MSjfGKGp1",
        "outputId": "bef84449-a588-4579-bee6-93cb4867c166"
      },
      "execution_count": null,
      "outputs": [
        {
          "output_type": "stream",
          "name": "stdout",
          "text": [
            "Drive already mounted at /content/drive; to attempt to forcibly remount, call drive.mount(\"/content/drive\", force_remount=True).\n"
          ]
        }
      ]
    }
  ]
}