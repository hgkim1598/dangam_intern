{
  "nbformat": 4,
  "nbformat_minor": 0,
  "metadata": {
    "colab": {
      "provenance": []
    },
    "kernelspec": {
      "name": "python3",
      "display_name": "Python 3"
    },
    "language_info": {
      "name": "python"
    }
  },
  "cells": [
    {
      "cell_type": "code",
      "execution_count": null,
      "metadata": {
        "id": "I8SHoGC4xw9R"
      },
      "outputs": [],
      "source": [
        "!pip install openai\n",
        "import openai\n",
        "\n",
        "# 발급받은 API 키 설정\n",
        "OPENAI_API_KEY = \"\"\n",
        "\n",
        "# openai API 키 인증\n",
        "openai.api_key = OPENAI_API_KEY"
      ]
    },
    {
      "cell_type": "code",
      "source": [
        "from google.colab import drive\n",
        "import pandas as pd\n",
        "import openai\n",
        "from google.colab import drive\n",
        "import os\n",
        "from openai import OpenAI\n",
        "import requests\n",
        "\n",
        "# OpenAI API 키 설정\n",
        "OPENAI_API_KEY = OPENAI_API_KEY  # 사용자의 API 키로 대체해야 함\n",
        "os.environ[\"OPENAI_API_KEY\"] = OPENAI_API_KEY\n",
        "\n",
        "# OpenAI 클라이언트 생성\n",
        "client = OpenAI(api_key=OPENAI_API_KEY)\n",
        "\n",
        "# 구글 드라이브 마운트\n",
        "drive.mount('/content/drive')\n",
        "\n",
        "# Excel 파일 경로 설정\n",
        "excel_file_path = '/content/drive/My Drive/dangam/dataset/test_crawling.xlsx'\n",
        "\n",
        "# Excel 파일 읽기\n",
        "df = pd.read_excel(excel_file_path)\n",
        "\n",
        "# 주어진 사자성어를 ChatGPT에게 긍정적인 해석과 부정적인 해석을 물어보는 함수\n",
        "def ask_gpt_for_proverb(proverb):\n",
        "    # ChatGPT를 사용한 텍스트 분류 요청\n",
        "    positive_response = client.chat.completions.create(\n",
        "        model=\"gpt-4\",\n",
        "        messages=[{\"role\": \"user\", \"content\": f\"'{proverb}' 이 문장을 어려운 사람들에게 힘을 주는 말로 만들어줘.\"}],\n",
        "    )\n",
        "    negative_response = client.chat.completions.create(\n",
        "        model=\"gpt-4\",\n",
        "        messages=[{\"role\": \"user\", \"content\":f\"'{proverb}'이 문장을 경고하는 말로 만들어줘.\"}],\n",
        "    )\n",
        "\n",
        "    # 응답에서 긍정적, 부정적 해석 추출\n",
        "    positive_interpretation = positive_response.choices[0].message.content\n",
        "    negative_interpretation = negative_response.choices[0].message.content\n",
        "\n",
        "    return positive_interpretation, negative_interpretation\n",
        "\n",
        "# 주요 프로세스\n",
        "def main():\n",
        "    positive_sentiments = []\n",
        "    negative_sentiments = []\n",
        "\n",
        "    # 모든 사자성어에 대해 ChatGPT에게 긍정적인 해석과 부정적인 해석을 물어봄\n",
        "    for proverb in df['contents_detail']:\n",
        "        positive_sentiment, negative_sentiment = ask_gpt_for_proverb(proverb)\n",
        "        positive_sentiments.append(positive_sentiment)\n",
        "        negative_sentiments.append(negative_sentiment)\n",
        "\n",
        "    # 새로운 DataFrame 생성\n",
        "    new_df = pd.DataFrame({\n",
        "        'contents_kr': df['contents_kr'],\n",
        "        'positive_sentiment': positive_sentiments,\n",
        "        'negative_sentiment': negative_sentiments\n",
        "    })\n",
        "\n",
        "    # 새로운 Excel 파일로 저장\n",
        "    new_excel_file_path = '/content/drive/My Drive/dangam/dataset/test_crawling_new_3.xlsx'\n",
        "    new_df.to_excel(new_excel_file_path, index=False)\n",
        "\n",
        "if __name__ == \"__main__\":\n",
        "    main()"
      ],
      "metadata": {
        "id": "lPe9V69lx2Cs"
      },
      "execution_count": null,
      "outputs": []
    }
  ]
}